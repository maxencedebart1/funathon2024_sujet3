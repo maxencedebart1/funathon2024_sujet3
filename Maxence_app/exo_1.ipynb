{
 "cells": [
  {
   "cell_type": "code",
   "execution_count": 19,
   "metadata": {},
   "outputs": [
    {
     "name": "stdout",
     "output_type": "stream",
     "text": [
      "Help on class FlightRadar24API in module FlightRadar24.api:\n",
      "\n",
      "class FlightRadar24API(builtins.object)\n",
      " |  FlightRadar24API(user: Optional[str] = None, password: Optional[str] = None)\n",
      " |\n",
      " |  Main class of the FlightRadarAPI\n",
      " |\n",
      " |  Methods defined here:\n",
      " |\n",
      " |  __init__(self, user: Optional[str] = None, password: Optional[str] = None)\n",
      " |      Constructor of the FlightRadar24API class.\n",
      " |\n",
      " |      :param user: Your email (optional)\n",
      " |      :param password: Your password (optional)\n",
      " |\n",
      " |  get_airline_logo(self, iata: str, icao: str) -> Optional[Tuple[bytes, str]]\n",
      " |      Download the logo of an airline from FlightRadar24 and return it as bytes.\n",
      " |\n",
      " |  get_airlines(self) -> List[Dict]\n",
      " |      Return a list with all airlines.\n",
      " |\n",
      " |  get_airport(self, code: str, *, details: bool = False) -> FlightRadar24.entities.airport.Airport\n",
      " |      Return basic information about a specific airport.\n",
      " |\n",
      " |      :param code: ICAO or IATA of the airport\n",
      " |      :param details: If True, it returns an Airport instance with detailed information.\n",
      " |\n",
      " |  get_airport_details(self, code: str, flight_limit: int = 100, page: int = 1) -> Dict\n",
      " |      Return the airport details from FlightRadar24.\n",
      " |\n",
      " |      :param code: ICAO or IATA of the airport\n",
      " |      :param flight_limit: Limit of flights related to the airport\n",
      " |      :param page: Page of result to display\n",
      " |\n",
      " |  get_airport_disruptions(self) -> Dict\n",
      " |      Return airport disruptions.\n",
      " |\n",
      " |  get_airports(self) -> List[FlightRadar24.entities.airport.Airport]\n",
      " |      Return a list with all airports.\n",
      " |\n",
      " |  get_bookmarks(self) -> Dict\n",
      " |      Get the bookmarks from the FlightRadar24 account.\n",
      " |\n",
      " |  get_bounds(self, zone: Dict[str, float]) -> str\n",
      " |      Convert coordinate dictionary to a string \"y1, y2, x1, x2\".\n",
      " |\n",
      " |      :param zone: Dictionary containing the following keys: tl_y, tl_x, br_y, br_x\n",
      " |\n",
      " |  get_bounds_by_point(self, latitude: float, longitude: float, radius: float) -> str\n",
      " |      Convert a point coordinate and a radius to a string \"y1, y2, x1, x2\".\n",
      " |\n",
      " |      :param latitude: Latitude of the point\n",
      " |      :param longitude: Longitude of the point\n",
      " |      :param radius: Radius in meters to create area around the point\n",
      " |\n",
      " |  get_country_flag(self, country: str) -> Optional[Tuple[bytes, str]]\n",
      " |      Download the flag of a country from FlightRadar24 and return it as bytes.\n",
      " |\n",
      " |      :param country: Country name\n",
      " |\n",
      " |  get_flight_details(self, flight: FlightRadar24.entities.flight.Flight) -> Dict[Any, Any]\n",
      " |      Return the flight details from Data Live FlightRadar24.\n",
      " |\n",
      " |      :param flight: A Flight instance\n",
      " |\n",
      " |  get_flight_tracker_config(self) -> FlightRadar24.api.FlightTrackerConfig\n",
      " |      Return a copy of the current config of the Real Time Flight Tracker, used by get_flights() method.\n",
      " |\n",
      " |  get_flights(self, airline: Optional[str] = None, bounds: Optional[str] = None, registration: Optional[str] = None, aircraft_type: Optional[str] = None, *, details: bool = False) -> List[FlightRadar24.entities.flight.Flight]\n",
      " |      Return a list of flights. See more options at set_flight_tracker_config() method.\n",
      " |\n",
      " |      :param airline: The airline ICAO. Ex: \"DAL\"\n",
      " |      :param bounds: Coordinates (y1, y2 ,x1, x2). Ex: \"75.78,-75.78,-427.56,427.56\"\n",
      " |      :param registration: Aircraft registration\n",
      " |      :param aircraft_type: Aircraft model code. Ex: \"B737\"\n",
      " |      :param details: If True, it returns flights with detailed information\n",
      " |\n",
      " |  get_history_data(self, flight: FlightRadar24.entities.flight.Flight, file_type: str, timestamp: int) -> Dict\n",
      " |      Download historical data of a flight.\n",
      " |\n",
      " |      :param flight: A Flight instance\n",
      " |      :param file_type: Must be \"CSV\" or \"KML\"\n",
      " |      :param timestamp: A Unix timestamp\n",
      " |\n",
      " |  get_login_data(self) -> Dict[Any, Any]\n",
      " |      Return the user data.\n",
      " |\n",
      " |  get_most_tracked(self) -> Dict\n",
      " |      Return the most tracked data.\n",
      " |\n",
      " |  get_volcanic_eruptions(self) -> Dict\n",
      " |      Return boundaries of volcanic eruptions and ash clouds impacting aviation.\n",
      " |\n",
      " |  get_zones(self) -> Dict[str, Dict]\n",
      " |      Return all major zones on the globe.\n",
      " |\n",
      " |  is_logged_in(self) -> bool\n",
      " |      Check if the user is logged into the FlightRadar24 account.\n",
      " |\n",
      " |  login(self, user: str, password: str) -> None\n",
      " |      Log in to a FlightRadar24 account.\n",
      " |\n",
      " |      :param user: Your email.\n",
      " |      :param password: Your password.\n",
      " |\n",
      " |  logout(self) -> bool\n",
      " |      Log out of the FlightRadar24 account.\n",
      " |\n",
      " |      Return a boolean indicating that it successfully logged out of the server.\n",
      " |\n",
      " |  search(self, query: str, limit: int = 50) -> Dict\n",
      " |      Return the search result.\n",
      " |\n",
      " |  set_flight_tracker_config(self, flight_tracker_config: Optional[FlightRadar24.api.FlightTrackerConfig] = None, **config: Union[int, str]) -> None\n",
      " |      Set config for the Real Time Flight Tracker, used by get_flights() method.\n",
      " |\n",
      " |  ----------------------------------------------------------------------\n",
      " |  Data descriptors defined here:\n",
      " |\n",
      " |  __dict__\n",
      " |      dictionary for instance variables\n",
      " |\n",
      " |  __weakref__\n",
      " |      list of weak references to the object\n",
      "\n"
     ]
    }
   ],
   "source": [
    "from FlightRadar24 import FlightRadar24API\n",
    "fr_api = FlightRadar24API()\n",
    "\n",
    "help(FlightRadar24API)"
   ]
  },
  {
   "cell_type": "code",
   "execution_count": 20,
   "metadata": {},
   "outputs": [
    {
     "name": "stdout",
     "output_type": "stream",
     "text": [
      "Il y a 2145 compagnies dans l'API\n"
     ]
    }
   ],
   "source": [
    "compagnies = fr_api.get_airlines()\n",
    "print(f\"Il y a {len(compagnies)} compagnies dans l'API\")"
   ]
  },
  {
   "cell_type": "code",
   "execution_count": 21,
   "metadata": {},
   "outputs": [
    {
     "name": "stdout",
     "output_type": "stream",
     "text": [
      "Il y a 9 zones géographiques différentes, dont 'europe', 'northamerica' ou 'africa' par exemple. \n"
     ]
    }
   ],
   "source": [
    "zones_geo = list(fr_api.get_zones().keys())\n",
    "print(f\"Il y a {len(zones_geo)} zones géographiques différentes, dont '{zones_geo[0]}', '{zones_geo[1]}' ou '{zones_geo[5]}' par exemple. \")"
   ]
  },
  {
   "cell_type": "code",
   "execution_count": 22,
   "metadata": {},
   "outputs": [
    {
     "name": "stdout",
     "output_type": "stream",
     "text": [
      "5 Boeing d'Air france circulent actuellement en Europe\n"
     ]
    }
   ],
   "source": [
    "boeing_77w = fr_api.get_flights(airline = \"AFR\", \n",
    "                                aircraft_type= \"B77W\", \n",
    "                                bounds=fr_api.get_bounds(fr_api.get_zones()[\"europe\"]))\n",
    "print(f\"{len(boeing_77w)} Boeing d'Air france circulent actuellement en Europe\")"
   ]
  },
  {
   "cell_type": "code",
   "execution_count": 23,
   "metadata": {},
   "outputs": [
    {
     "name": "stdout",
     "output_type": "stream",
     "text": [
      "Désormais, on prend des infos sur 1500 vols.\n"
     ]
    }
   ],
   "source": [
    "flight_tracker = fr_api.get_flight_tracker_config()\n",
    "flight_tracker.limit = 5000\n",
    "fr_api.set_flight_tracker_config(flight_tracker)\n",
    "\n",
    "print(f\"Désormais, on prend des infos sur {len(fr_api.get_flights())} vols.\")"
   ]
  },
  {
   "cell_type": "code",
   "execution_count": 24,
   "metadata": {},
   "outputs": [
    {
     "name": "stdout",
     "output_type": "stream",
     "text": [
      "Le vol 35d71b73 allant de Vladivostok International Airport vers N/A appartient à la compagnie NWS.\n"
     ]
    }
   ],
   "source": [
    "un_vol_quelconque = fr_api.get_flights()[456]\n",
    "un_vol_details = fr_api.get_flight_details(un_vol_quelconque)\n",
    "un_vol_quelconque.set_flight_details(un_vol_details)\n",
    "\n",
    "print(f\"Le vol {un_vol_quelconque.id} allant de {un_vol_quelconque.origin_airport_name} vers {un_vol_quelconque.destination_airport_name} appartient à la compagnie {un_vol_quelconque.airline_icao}.\")"
   ]
  },
  {
   "cell_type": "code",
   "execution_count": 29,
   "metadata": {},
   "outputs": [
    {
     "data": {
      "text/plain": [
       "0"
      ]
     },
     "execution_count": 29,
     "metadata": {},
     "output_type": "execute_result"
    }
   ],
   "source": [
    "-15 % 360\n",
    "360 % 360"
   ]
  }
 ],
 "metadata": {
  "kernelspec": {
   "display_name": "base",
   "language": "python",
   "name": "python3"
  },
  "language_info": {
   "codemirror_mode": {
    "name": "ipython",
    "version": 3
   },
   "file_extension": ".py",
   "mimetype": "text/x-python",
   "name": "python",
   "nbconvert_exporter": "python",
   "pygments_lexer": "ipython3",
   "version": "3.12.3"
  }
 },
 "nbformat": 4,
 "nbformat_minor": 2
}
